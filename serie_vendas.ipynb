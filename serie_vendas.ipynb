{
 "cells": [
  {
   "cell_type": "markdown",
   "metadata": {},
   "source": [
    "# Previsão de Séries Temporais usando MLForecast"
   ]
  },
  {
   "cell_type": "markdown",
   "metadata": {},
   "source": [
    "Processo construído de acordo com artigo técnico do Medium encontrado no link: https://mariofilho.com/como-prever-series-temporais-com-scikit-learn/"
   ]
  },
  {
   "cell_type": "markdown",
   "metadata": {},
   "source": [
    "Os dados estão disponíveis no kaggle: https://www.kaggle.com/competitions/store-sales-time-series-forecasting/data?select=transactions.csv."
   ]
  },
  {
   "cell_type": "markdown",
   "metadata": {},
   "source": [
    "### Sobre os dados:"
   ]
  },
  {
   "cell_type": "markdown",
   "metadata": {},
   "source": [
    "Descrição dos Arquivos e Informações dos Campos de Dados\n",
    "- **train.csv**:\n",
    "Os dados de treinamento, consistindo em séries temporais com as características store_nbr, family e onpromotion, além do alvo sales.\n",
    "\n",
    "    - `store_nbr`: Identifica a loja onde os produtos são vendidos.\n",
    "    - `family`: Identifica o tipo de produto vendido.\n",
    "    - `sales`: Fornece as vendas totais de uma família de produtos em uma loja específica em uma data determinada. Valores fracionários são possíveis, já que os produtos podem ser vendidos em unidades fracionárias (1,5 kg de queijo, por exemplo, em vez de 1 pacote de batatas fritas).\n",
    "    - `onpromotion`: Indica o número total de itens de uma família de produtos que estavam em promoção em uma loja em uma data específica.\n",
    "\n",
    "- **test.csv**:\n",
    "Os dados de teste, com as mesmas características dos dados de treinamento. Você deverá prever o alvo sales para as datas presentes neste arquivo.\n",
    "\n",
    "As datas nos dados de teste correspondem aos 15 dias após a última data nos dados de treinamento.\n",
    "\n",
    "- **stores.csv**:\n",
    "Metadados das lojas, incluindo cidade, estado, tipo e cluster.\n",
    "\n",
    "    - `cluster`: Agrupamento de lojas similares.\n",
    "\n",
    "- **oil.csv**:\n",
    "Preço diário do petróleo. Inclui valores tanto no período dos dados de treinamento quanto nos dados de teste.\n",
    "\n",
    "(O Equador é um país dependente do petróleo, e sua saúde econômica é altamente vulnerável a choques nos preços do petróleo.)\n",
    "\n",
    "- **holidays_events.csv**\n",
    "Feriados e eventos, com metadados.\n",
    "NOTA: Preste atenção especial à coluna transferred. Um feriado transferido oficialmente ocorre naquele dia do calendário, mas foi movido para outra data pelo governo. Um dia transferido é mais semelhante a um dia normal do que a um feriado. Para encontrar o dia em que ele foi efetivamente celebrado, procure a linha correspondente onde o tipo é Transfer. Por exemplo, o feriado Independencia de Guayaquil foi transferido de 2012-10-09 para 2012-10-12, o que significa que foi celebrado em 2012-10-12.\n",
    "\n",
    "Dias do tipo Bridge são dias extras adicionados a um feriado (por exemplo, para estender a pausa durante um final de semana prolongado). Esses dias são frequentemente compensados pelo tipo Work Day, que é um dia normalmente não agendado para trabalho (por exemplo, sábado), mas que é usado para compensar o Bridge.\n",
    "Additional holidays são dias adicionais a um feriado regular do calendário, como geralmente ocorre ao redor do Natal (fazendo, por exemplo, a véspera de Natal ser um feriado).\n",
    "\n",
    "---\n",
    "**Notas Adicionais**\n",
    "Salários no setor público são pagos quinzenalmente, no dia 15 e no último dia do mês. As vendas de supermercados podem ser afetadas por isso.\n",
    "Um terremoto de magnitude 7.8 atingiu o Equador em 16 de abril de 2016. A população se mobilizou em esforços de ajuda, doando água e outros produtos de primeira necessidade, o que afetou significativamente as vendas dos supermercados por várias semanas após o terremoto."
   ]
  },
  {
   "cell_type": "markdown",
   "metadata": {},
   "source": [
    "Vamos observar dos dados de treino como estão nossas colunas:"
   ]
  },
  {
   "cell_type": "code",
   "execution_count": 9,
   "metadata": {},
   "outputs": [],
   "source": [
    "# importanto bibliotecas\n",
    "import pandas as pd\n",
    "import numpy as np\n",
    "from matplotlib import pyplot as plt"
   ]
  },
  {
   "cell_type": "code",
   "execution_count": 10,
   "metadata": {},
   "outputs": [],
   "source": [
    "# leitura dos dados de treino\n",
    "\n",
    "path = 'data/train.csv'\n",
    "data = pd.read_csv(path, index_col= 'id', parse_dates=['date'])"
   ]
  },
  {
   "cell_type": "code",
   "execution_count": 11,
   "metadata": {},
   "outputs": [
    {
     "data": {
      "text/html": [
       "<div>\n",
       "<style scoped>\n",
       "    .dataframe tbody tr th:only-of-type {\n",
       "        vertical-align: middle;\n",
       "    }\n",
       "\n",
       "    .dataframe tbody tr th {\n",
       "        vertical-align: top;\n",
       "    }\n",
       "\n",
       "    .dataframe thead th {\n",
       "        text-align: right;\n",
       "    }\n",
       "</style>\n",
       "<table border=\"1\" class=\"dataframe\">\n",
       "  <thead>\n",
       "    <tr style=\"text-align: right;\">\n",
       "      <th></th>\n",
       "      <th>date</th>\n",
       "      <th>store_nbr</th>\n",
       "      <th>family</th>\n",
       "      <th>sales</th>\n",
       "      <th>onpromotion</th>\n",
       "    </tr>\n",
       "    <tr>\n",
       "      <th>id</th>\n",
       "      <th></th>\n",
       "      <th></th>\n",
       "      <th></th>\n",
       "      <th></th>\n",
       "      <th></th>\n",
       "    </tr>\n",
       "  </thead>\n",
       "  <tbody>\n",
       "    <tr>\n",
       "      <th>0</th>\n",
       "      <td>2013-01-01</td>\n",
       "      <td>1</td>\n",
       "      <td>AUTOMOTIVE</td>\n",
       "      <td>0.0</td>\n",
       "      <td>0</td>\n",
       "    </tr>\n",
       "    <tr>\n",
       "      <th>1</th>\n",
       "      <td>2013-01-01</td>\n",
       "      <td>1</td>\n",
       "      <td>BABY CARE</td>\n",
       "      <td>0.0</td>\n",
       "      <td>0</td>\n",
       "    </tr>\n",
       "    <tr>\n",
       "      <th>2</th>\n",
       "      <td>2013-01-01</td>\n",
       "      <td>1</td>\n",
       "      <td>BEAUTY</td>\n",
       "      <td>0.0</td>\n",
       "      <td>0</td>\n",
       "    </tr>\n",
       "    <tr>\n",
       "      <th>3</th>\n",
       "      <td>2013-01-01</td>\n",
       "      <td>1</td>\n",
       "      <td>BEVERAGES</td>\n",
       "      <td>0.0</td>\n",
       "      <td>0</td>\n",
       "    </tr>\n",
       "    <tr>\n",
       "      <th>4</th>\n",
       "      <td>2013-01-01</td>\n",
       "      <td>1</td>\n",
       "      <td>BOOKS</td>\n",
       "      <td>0.0</td>\n",
       "      <td>0</td>\n",
       "    </tr>\n",
       "  </tbody>\n",
       "</table>\n",
       "</div>"
      ],
      "text/plain": [
       "         date  store_nbr      family  sales  onpromotion\n",
       "id                                                      \n",
       "0  2013-01-01          1  AUTOMOTIVE    0.0            0\n",
       "1  2013-01-01          1   BABY CARE    0.0            0\n",
       "2  2013-01-01          1      BEAUTY    0.0            0\n",
       "3  2013-01-01          1   BEVERAGES    0.0            0\n",
       "4  2013-01-01          1       BOOKS    0.0            0"
      ]
     },
     "execution_count": 11,
     "metadata": {},
     "output_type": "execute_result"
    }
   ],
   "source": [
    "data.head()"
   ]
  },
  {
   "cell_type": "markdown",
   "metadata": {},
   "source": [
    "O grupo NixTla (criadores da `mlforecast`) padronizam o nome das colunas, para que o modelo consiga identificar. Assim temos as colunas:\n",
    "\n",
    "- `ds`: será a coluna com a data;\n",
    "- `y`: a nossa variável alvo (target)\n",
    "- `unique_id`: a coluna que identifica cada série temporal que você tem.\n",
    "\n",
    "No nosso caso, como as lojas são divididas por famílias, de acordo com a similaridade, então cada família representa uma série temporal. Logo nossa coluna `family`será renomeada para `unique_id`. \n",
    "\n",
    "Como temos várias lojas, temos de combinar os valores do family e o numero da loja, na coluna `unique_id`."
   ]
  },
  {
   "cell_type": "code",
   "execution_count": 15,
   "metadata": {},
   "outputs": [],
   "source": [
    "# renomeando as colunas\n",
    "data2 = data.rename(columns= {'date': 'ds', 'sales': 'y'})\n",
    "data2['unique_id'] = data2['store_nbr'].astype(str) + '_' + data2['family']\n"
   ]
  },
  {
   "cell_type": "code",
   "execution_count": 14,
   "metadata": {},
   "outputs": [
    {
     "data": {
      "text/html": [
       "<div>\n",
       "<style scoped>\n",
       "    .dataframe tbody tr th:only-of-type {\n",
       "        vertical-align: middle;\n",
       "    }\n",
       "\n",
       "    .dataframe tbody tr th {\n",
       "        vertical-align: top;\n",
       "    }\n",
       "\n",
       "    .dataframe thead th {\n",
       "        text-align: right;\n",
       "    }\n",
       "</style>\n",
       "<table border=\"1\" class=\"dataframe\">\n",
       "  <thead>\n",
       "    <tr style=\"text-align: right;\">\n",
       "      <th></th>\n",
       "      <th>ds</th>\n",
       "      <th>unique_id</th>\n",
       "      <th>y</th>\n",
       "      <th>onpromotion</th>\n",
       "    </tr>\n",
       "    <tr>\n",
       "      <th>id</th>\n",
       "      <th></th>\n",
       "      <th></th>\n",
       "      <th></th>\n",
       "      <th></th>\n",
       "    </tr>\n",
       "  </thead>\n",
       "  <tbody>\n",
       "    <tr>\n",
       "      <th>0</th>\n",
       "      <td>2013-01-01</td>\n",
       "      <td>1_AUTOMOTIVE</td>\n",
       "      <td>0.000</td>\n",
       "      <td>0</td>\n",
       "    </tr>\n",
       "    <tr>\n",
       "      <th>1</th>\n",
       "      <td>2013-01-01</td>\n",
       "      <td>1_BABY CARE</td>\n",
       "      <td>0.000</td>\n",
       "      <td>0</td>\n",
       "    </tr>\n",
       "    <tr>\n",
       "      <th>2</th>\n",
       "      <td>2013-01-01</td>\n",
       "      <td>1_BEAUTY</td>\n",
       "      <td>0.000</td>\n",
       "      <td>0</td>\n",
       "    </tr>\n",
       "    <tr>\n",
       "      <th>3</th>\n",
       "      <td>2013-01-01</td>\n",
       "      <td>1_BEVERAGES</td>\n",
       "      <td>0.000</td>\n",
       "      <td>0</td>\n",
       "    </tr>\n",
       "    <tr>\n",
       "      <th>4</th>\n",
       "      <td>2013-01-01</td>\n",
       "      <td>1_BOOKS</td>\n",
       "      <td>0.000</td>\n",
       "      <td>0</td>\n",
       "    </tr>\n",
       "    <tr>\n",
       "      <th>...</th>\n",
       "      <td>...</td>\n",
       "      <td>...</td>\n",
       "      <td>...</td>\n",
       "      <td>...</td>\n",
       "    </tr>\n",
       "    <tr>\n",
       "      <th>3000883</th>\n",
       "      <td>2017-08-15</td>\n",
       "      <td>9_POULTRY</td>\n",
       "      <td>438.133</td>\n",
       "      <td>0</td>\n",
       "    </tr>\n",
       "    <tr>\n",
       "      <th>3000884</th>\n",
       "      <td>2017-08-15</td>\n",
       "      <td>9_PREPARED FOODS</td>\n",
       "      <td>154.553</td>\n",
       "      <td>1</td>\n",
       "    </tr>\n",
       "    <tr>\n",
       "      <th>3000885</th>\n",
       "      <td>2017-08-15</td>\n",
       "      <td>9_PRODUCE</td>\n",
       "      <td>2419.729</td>\n",
       "      <td>148</td>\n",
       "    </tr>\n",
       "    <tr>\n",
       "      <th>3000886</th>\n",
       "      <td>2017-08-15</td>\n",
       "      <td>9_SCHOOL AND OFFICE SUPPLIES</td>\n",
       "      <td>121.000</td>\n",
       "      <td>8</td>\n",
       "    </tr>\n",
       "    <tr>\n",
       "      <th>3000887</th>\n",
       "      <td>2017-08-15</td>\n",
       "      <td>9_SEAFOOD</td>\n",
       "      <td>16.000</td>\n",
       "      <td>0</td>\n",
       "    </tr>\n",
       "  </tbody>\n",
       "</table>\n",
       "<p>3000888 rows × 4 columns</p>\n",
       "</div>"
      ],
      "text/plain": [
       "                ds                     unique_id         y  onpromotion\n",
       "id                                                                     \n",
       "0       2013-01-01                  1_AUTOMOTIVE     0.000            0\n",
       "1       2013-01-01                   1_BABY CARE     0.000            0\n",
       "2       2013-01-01                      1_BEAUTY     0.000            0\n",
       "3       2013-01-01                   1_BEVERAGES     0.000            0\n",
       "4       2013-01-01                       1_BOOKS     0.000            0\n",
       "...            ...                           ...       ...          ...\n",
       "3000883 2017-08-15                     9_POULTRY   438.133            0\n",
       "3000884 2017-08-15              9_PREPARED FOODS   154.553            1\n",
       "3000885 2017-08-15                     9_PRODUCE  2419.729          148\n",
       "3000886 2017-08-15  9_SCHOOL AND OFFICE SUPPLIES   121.000            8\n",
       "3000887 2017-08-15                     9_SEAFOOD    16.000            0\n",
       "\n",
       "[3000888 rows x 4 columns]"
      ]
     },
     "execution_count": 14,
     "metadata": {},
     "output_type": "execute_result"
    }
   ],
   "source": [
    "data2 = data2[['ds', 'unique_id', 'y', 'onpromotion']]\n",
    "data2"
   ]
  },
  {
   "cell_type": "markdown",
   "metadata": {},
   "source": [
    "Uma linha para cada registro contendo a data, o ID da série temporal (categoria do produto em nosso exemplo), o valor da variável alvo e o valor de variáveis externas.\n",
    "\n",
    "Veja que as séries temporais estão empilhadas."
   ]
  },
  {
   "cell_type": "markdown",
   "metadata": {},
   "source": [
    "### Validação temporal"
   ]
  },
  {
   "cell_type": "markdown",
   "metadata": {},
   "source": [
    "**O Problema: Vazamento de Dados** \n",
    "\n",
    "Quando trabalhamos com séries temporais, os dados possuem uma característica fundamental: dependem do tempo. Isso significa que os valores de uma data futura não podem ser conhecidos antes de essa data acontecer. Se você usar dados futuros (mesmo que indiretamente) para treinar o modelo, estará introduzindo o que chamamos de `vazamento de dados`.\n",
    "\n",
    "**Por que a validação aleatória ou k-fold causa vazamento de dados?** \n",
    "\n",
    "- **Validação aleatória:**  Divide os dados de forma aleatória entre treino e validação. Isso significa que um ponto de dados de uma data futura pode acabar no conjunto de treino, enquanto os dados de uma data anterior podem ser usados na validação.\n",
    "    - Exemplo: Um dado de 2023-12-01 no treino, e outro de 2023-11-01 na validação.\n",
    "    - Problema: O modelo \"aprendeu\" com informações do futuro (2023-12-01), o que nunca aconteceria em um cenário real.\n",
    "- **Validação k-fold:** Divide os dados em k subconjuntos (folds) e usa diferentes combinações para treino e validação. No caso de séries temporais, isso também pode misturar dados de diferentes períodos de tempo.\n",
    "    - Problema: Como em k-fold os dados são reorganizados, informações futuras podem influenciar o treino de maneira não realista.\n",
    "    \n",
    "**O Impacto na Prática**\n",
    "Na prática, quando você faz previsões, os dados do futuro não estarão disponíveis. Se o modelo treinou com esses dados, ele terá uma visão \"irreal\" das relações entre as variáveis, resultando em um desempenho artificialmente alto durante a validação. Esse desempenho não se sustentará em novos dados reais."
   ]
  },
  {
   "cell_type": "markdown",
   "metadata": {},
   "source": [
    "Vamos usar uma validação temporal simples entre passado e futuro!"
   ]
  },
  {
   "cell_type": "code",
   "execution_count": 20,
   "metadata": {},
   "outputs": [
    {
     "name": "stdout",
     "output_type": "stream",
     "text": [
      "Data mínima: 2013-01-01 00:00:00\n",
      "Data máxima: 2017-08-15 00:00:00\n"
     ]
    }
   ],
   "source": [
    "# escolhendo a janela temporal\n",
    "\n",
    "# Obtendo a data mínima e máxima\n",
    "min_date = data2['ds'].min()\n",
    "max_date = data2['ds'].max()\n",
    "\n",
    "print(\"Data mínima:\", min_date)\n",
    "print(\"Data máxima:\", max_date)"
   ]
  },
  {
   "cell_type": "markdown",
   "metadata": {},
   "source": [
    "Vamos dividir os dados de treino e teste usando a seguinte estratégia:\n",
    "\n",
    "- `dados de treino`: De 2013-01-01 até 2016-12-31\n",
    "- `dados de teste`: De 2017-01-01 até 2017-08-15"
   ]
  },
  {
   "cell_type": "code",
   "execution_count": 21,
   "metadata": {},
   "outputs": [],
   "source": [
    "# split dos dados\n",
    "\n",
    "train  = data2.loc[data2.ds < '2017-01-01']\n",
    "valid = data2.loc[data2.ds >= '2017-01-01']"
   ]
  },
  {
   "cell_type": "markdown",
   "metadata": {},
   "source": [
    "### Featuring Engineering para Séries Temporais"
   ]
  },
  {
   "cell_type": "markdown",
   "metadata": {},
   "source": [
    "Essa parte é crucial para o sucesso de seu modelo.\n",
    "\n",
    "É de costume pensar em 4 tipos de features principais para séries temporais:\n",
    "\n",
    "- **LAGS**: são simplesmente valores passados da série temporal que você inclui como features para o modelo.\n",
    "\n",
    "    - Por exemplo, se você está tentando prever a demanda de um produto daqui a uma semana, pode incluir a demanda do mesmo dia da semana, mas na semana anterior como feature.\n",
    "    - É importante testar vários valores de lags para encontrar o que funciona melhor para o seu problema específico.\n",
    "\n",
    "- **AGREGAÇÕES TEMPORAIS**: As agregações temporais são operações aplicadas a uma janela de observações da série temporal.\n",
    "\n",
    "    - Por exemplo, calcular a média de vendas diárias dos últimos 7 dias, ou o desvio padrão dos retornos de um ativo financeiro nas últimas 4 semanas.\n",
    "    Essas agregações podem ajudar o modelo a identificar tendências e padrões na série temporal.\n",
    "\n",
    "- **COMPONENTES DA DATA**: Os componentes da data são valores que você extrai de uma data ou hora específica.\n",
    "\n",
    "    - Por exemplo, você pode incluir a hora do dia, o dia da semana, o mês, a estação do ano, etc.\n",
    "\n",
    "    Essas features podem ajudar o modelo a identificar padrões sazonais e cíclicos na série temporal.\n",
    "\n",
    "- **DIFERENÇAS**: As diferenças são o resultado da subtração entre valores da série temporal.\n",
    "\n",
    "    - Por exemplo, você pode incluir a diferença entre a demanda de hoje e a demanda de ontem.\n",
    "\n",
    "    Mesmo com os lags, as diferenças podem trazer informações mais detalhadas para o modeo e ajudá-lo a identificar os padrões com mais facilidade.\n"
   ]
  },
  {
   "cell_type": "markdown",
   "metadata": {},
   "source": [
    "Vamos utilizar apenas 2 modelos para testar na nossa série."
   ]
  },
  {
   "cell_type": "code",
   "execution_count": 22,
   "metadata": {},
   "outputs": [],
   "source": [
    "# criando lista com modelos que queremos testar\n",
    "\n",
    "from sklearn.ensemble import RandomForestRegressor, ExtraTreesRegressor\n",
    "\n",
    "models = [RandomForestRegressor(random_state=0, n_estimators=100),\n",
    "          ExtraTreesRegressor(random_state=0, n_estimators=100)]"
   ]
  },
  {
   "cell_type": "markdown",
   "metadata": {},
   "source": [
    "**EXPLICAÇÃO PARA OS PARAMETROS**\n",
    "1. `random_state`\n",
    "- O que é: Define a semente para o gerador de números aleatórios usado pelo modelo.\n",
    "\n",
    "**Por que usar:**\n",
    "\n",
    "Garante que os resultados sejam reprodutíveis.\n",
    "Modelos como Random Forest e Extra Trees usam aleatoriedade em várias etapas, como:\n",
    "        - Seleção de amostras para cada árvore.\n",
    "        - Seleção de subconjuntos de recursos (features) ao construir as árvores.\n",
    "Configurando random_state, o comportamento aleatório se torna determinístico, garantindo que o mesmo código sempre produza os mesmos resultados.\n",
    "\n",
    "**Como definir:**\n",
    "\n",
    "Escolha um número inteiro, por exemplo, random_state=0.\n",
    "O número em si não importa, desde que você use o mesmo número para replicar resultados.\n",
    "\n",
    "2. `n_estimators`\n",
    "O que é: Número de árvores a serem criadas na floresta.\n",
    "\n",
    "**Por que usar:**\n",
    "\n",
    "- Aumentar n_estimators tende a melhorar a precisão do modelo (até certo ponto), porque mais árvores significam mais combinações de decisões e, geralmente, menor variância.\n",
    "- Contudo, há um custo computacional: mais árvores aumentam o tempo de treinamento e inferência.\n",
    "\n",
    "**Como definir:**\n",
    "\n",
    "- Comece com um valor padrão, como n_estimators=100.\n",
    "- Aumente para 200, 500 ou mais, caso seu modelo ainda não esteja performando bem e você tenha capacidade computacional suficiente.\n",
    "- Use validação cruzada para testar diferentes valores e encontrar o equilíbrio entre desempenho e custo."
   ]
  },
  {
   "cell_type": "markdown",
   "metadata": {},
   "source": [
    "Para calcular a diferença entre os valores da série temporal, vamos utilizar a biblioteca `numba` que compila a função criada e otimiza a performance do código."
   ]
  },
  {
   "cell_type": "code",
   "execution_count": 25,
   "metadata": {},
   "outputs": [],
   "source": [
    "def diff(x, lag):\n",
    "    x2 = np.full_like(x, np.nan)\n",
    "    for i in range(lag, len(x)):\n",
    "        x2[i] = x[i] - x[i-lag]\n",
    "    return x2"
   ]
  },
  {
   "cell_type": "code",
   "execution_count": null,
   "metadata": {},
   "outputs": [],
   "source": []
  }
 ],
 "metadata": {
  "kernelspec": {
   "display_name": ".venv",
   "language": "python",
   "name": "python3"
  },
  "language_info": {
   "codemirror_mode": {
    "name": "ipython",
    "version": 3
   },
   "file_extension": ".py",
   "mimetype": "text/x-python",
   "name": "python",
   "nbconvert_exporter": "python",
   "pygments_lexer": "ipython3",
   "version": "3.12.5"
  }
 },
 "nbformat": 4,
 "nbformat_minor": 2
}
